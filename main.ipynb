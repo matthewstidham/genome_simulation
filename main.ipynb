{
 "cells": [
  {
   "cell_type": "code",
   "execution_count": 1,
   "id": "db7be7ee",
   "metadata": {},
   "outputs": [],
   "source": [
    "from GenomeSimulator import GenomeSimulator\n",
    "from collections import Counter\n",
    "from itertools import combinations\n",
    "import matplotlib.pyplot as plt\n",
    "import seaborn as sns\n",
    "import numpy as np"
   ]
  },
  {
   "cell_type": "code",
   "execution_count": 23,
   "id": "497ebcca",
   "metadata": {},
   "outputs": [
    {
     "data": {
      "text/plain": [
       "11.0"
      ]
     },
     "execution_count": 23,
     "metadata": {},
     "output_type": "execute_result"
    }
   ],
   "source": [
    "np.log(2048) / np.log(2)"
   ]
  },
  {
   "cell_type": "code",
   "execution_count": 24,
   "id": "3a967136",
   "metadata": {},
   "outputs": [
    {
     "name": "stdout",
     "output_type": "stream",
     "text": [
      "generation 1: 2023-03-13 21:57:29.867299\n",
      "generation 2: 2023-03-13 21:58:57.317753\n",
      "generation 3: 2023-03-13 22:00:53.979718\n",
      "generation 4: 2023-03-13 22:03:07.850791\n",
      "generation 5: 2023-03-13 22:05:20.388076\n",
      "generation 6: 2023-03-13 22:07:43.314180\n",
      "generation 7: 2023-03-13 22:10:20.179926\n",
      "generation 8: 2023-03-13 22:12:51.899124\n",
      "generation 9: 2023-03-13 22:15:40.099583\n",
      "generation 10: 2023-03-13 22:18:45.323684\n",
      "generation 11: 2023-03-13 22:22:27.679464\n",
      "generation 12: 2023-03-13 22:27:02.242945\n",
      "generation 13: 2023-03-13 22:31:51.748486\n",
      "generation 14: 2023-03-13 22:35:58.402835\n",
      "generation 15: 2023-03-13 22:39:16.088857\n",
      "generation 16: 2023-03-13 22:41:23.019697\n",
      "generation 17: 2023-03-13 22:42:27.479225\n",
      "generation 18: 2023-03-13 22:42:55.977975\n",
      "generation 19: 2023-03-13 22:43:14.921432\n"
     ]
    }
   ],
   "source": [
    "simulator = GenomeSimulator()\n",
    "simulator.starting_count = 2048\n",
    "simulator.iterate_generations(20)"
   ]
  },
  {
   "cell_type": "code",
   "execution_count": null,
   "id": "58c730e8",
   "metadata": {},
   "outputs": [],
   "source": [
    "Counter([x['generation'] for x in simulator.people.values()])"
   ]
  },
  {
   "cell_type": "code",
   "execution_count": null,
   "id": "a677dfa4",
   "metadata": {},
   "outputs": [],
   "source": [
    "len(simulator.people)"
   ]
  },
  {
   "cell_type": "code",
   "execution_count": null,
   "id": "f76e95c4",
   "metadata": {},
   "outputs": [],
   "source": [
    "last_generation = [x['name'] for x in simulator.people.values() if x['generation'] == 17]"
   ]
  },
  {
   "cell_type": "code",
   "execution_count": null,
   "id": "32481a1e",
   "metadata": {},
   "outputs": [],
   "source": [
    "relationships = dict()\n",
    "for pair in list(combinations(last_generation,2)):\n",
    "    relationships[pair] = simulator.genome_similarity(simulator.people[pair[0]],\n",
    "                                                     simulator.people[pair[1]])"
   ]
  },
  {
   "cell_type": "code",
   "execution_count": null,
   "id": "7d432cf1",
   "metadata": {},
   "outputs": [],
   "source": [
    "plt.hist(relationships.values())"
   ]
  },
  {
   "cell_type": "code",
   "execution_count": null,
   "id": "9f305b5d",
   "metadata": {},
   "outputs": [],
   "source": [
    "min(relationships.values())"
   ]
  },
  {
   "cell_type": "code",
   "execution_count": null,
   "id": "379b3942",
   "metadata": {},
   "outputs": [],
   "source": [
    "[x['name'] for x in simulator.people.values() if x['generation'] == 6]"
   ]
  },
  {
   "cell_type": "code",
   "execution_count": null,
   "id": "246616a0",
   "metadata": {},
   "outputs": [],
   "source": [
    "{key:value for key,value in relationships.items() if value < 2}"
   ]
  },
  {
   "cell_type": "code",
   "execution_count": null,
   "id": "d282c493",
   "metadata": {},
   "outputs": [],
   "source": []
  }
 ],
 "metadata": {
  "kernelspec": {
   "display_name": "Python 3 (ipykernel)",
   "language": "python",
   "name": "python3"
  },
  "language_info": {
   "codemirror_mode": {
    "name": "ipython",
    "version": 3
   },
   "file_extension": ".py",
   "mimetype": "text/x-python",
   "name": "python",
   "nbconvert_exporter": "python",
   "pygments_lexer": "ipython3",
   "version": "3.10.0"
  }
 },
 "nbformat": 4,
 "nbformat_minor": 5
}
