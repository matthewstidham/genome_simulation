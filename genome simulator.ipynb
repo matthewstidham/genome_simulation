{
 "cells": [
  {
   "cell_type": "code",
   "execution_count": 1,
   "id": "69234fe7",
   "metadata": {},
   "outputs": [],
   "source": [
    "import uuid\n",
    "from uuid import UUID\n",
    "import random\n",
    "from collections import Counter\n",
    "import pandas as pd\n",
    "import matplotlib.pyplot as plt\n",
    "from datetime import datetime"
   ]
  },
  {
   "cell_type": "code",
   "execution_count": null,
   "id": "b2bb3eb7",
   "metadata": {},
   "outputs": [],
   "source": [
    "class GenomeSimulator:\n",
    "    def __init__(self):\n",
    "        self.generation = 1\n",
    "        self.people = dict()\n",
    "    \n",
    "    def setup(self):\n",
    "        for _ in range(32):\n",
    "            value = uuid.uuid4()\n",
    "            self.people[value] = {'name':value,\n",
    "                                  'genome': [value] * 20_000,\n",
    "                                  'generation': self.generation,\n",
    "                                  'sex':random.randint(0,1),\n",
    "                                  'birth_year':random.randint(0,10),\n",
    "                                  'partner': None}\n",
    "            \n",
    "    def make_partners(self):\n",
    "        self.generation += 1\n",
    "        candidates = {key:value for key, value in self.people.items() if value['partner'] is None}\n",
    "        males = {key:value for key, value in candidates.items() if value['sex'] == 1}\n",
    "        females = {key:value for key, value in candidates.items() if value['sex'] == 0}\n",
    "        for count in range(min([len(males),len(females)])):\n",
    "            for child in range(1,4):\n",
    "                genome = []\n",
    "                father = list(males.values())[count]\n",
    "                mother = list(females.values())[count]\n",
    "                candidates[father['name']]['partner'] = mother['name']\n",
    "                candidates[mother['name']]['partner'] = father['name']\n",
    "                similarity = 0\n",
    "                for gene in range(20_000):\n",
    "                    if father['genome'][gene] == mother['genome'][gene]:\n",
    "                        similarity += 1\n",
    "                    if random.randint(0,1) == 0:\n",
    "                        genome.append(father['genome'][gene])\n",
    "                    else:\n",
    "                        genome.append(mother['genome'][gene])\n",
    "                \n",
    "                if similarity > 200:\n",
    "                    break\n",
    "                new_name = uuid.uuid4()\n",
    "                birth_year = max(father['birth_year'], mother['birth_year']) + random.randint(20,35)\n",
    "                self.people[new_name] = {'name':new_name,\n",
    "                                         'genome': genome,\n",
    "                                         'generation': generation,\n",
    "                                         'sex': random.randint(0,1),\n",
    "                                         'birth_year': birth_year,\n",
    "                                        'partner': None}"
   ]
  },
  {
   "cell_type": "code",
   "execution_count": 3,
   "id": "5aa38233",
   "metadata": {},
   "outputs": [
    {
     "data": {
      "text/plain": [
       "1024"
      ]
     },
     "execution_count": 3,
     "metadata": {},
     "output_type": "execute_result"
    }
   ],
   "source": [
    "simulation = GenomeSimulator()\n",
    "simulation.setup()\n",
    "len(simulation.people.items())"
   ]
  },
  {
   "cell_type": "code",
   "execution_count": null,
   "id": "677a9097",
   "metadata": {},
   "outputs": [
    {
     "name": "stdout",
     "output_type": "stream",
     "text": [
      "generation 1: 2023-03-13 20:43:57.445537\n",
      "generation 2: 2023-03-13 20:44:44.479926\n"
     ]
    }
   ],
   "source": [
    "for generation in range(1,20):\n",
    "    simulation.make_partners()\n",
    "    print(\"generation %s: %s\" % (generation, datetime.now()))"
   ]
  },
  {
   "cell_type": "code",
   "execution_count": null,
   "id": "d7fbbb6f",
   "metadata": {},
   "outputs": [],
   "source": [
    "len(simulation.people)"
   ]
  },
  {
   "cell_type": "code",
   "execution_count": null,
   "id": "3cea0d53",
   "metadata": {},
   "outputs": [],
   "source": [
    "Counter([x['sex'] for x in simulation.people.values()])"
   ]
  },
  {
   "cell_type": "code",
   "execution_count": null,
   "id": "8f559428",
   "metadata": {},
   "outputs": [],
   "source": [
    "Counter([x['sex'] for x in simulation.people.values() if x['partner'] is None])"
   ]
  },
  {
   "cell_type": "code",
   "execution_count": null,
   "id": "10cdffd6",
   "metadata": {},
   "outputs": [],
   "source": [
    "simulation.generation"
   ]
  },
  {
   "cell_type": "code",
   "execution_count": null,
   "id": "9a612758",
   "metadata": {},
   "outputs": [],
   "source": [
    "list(simulation.people.values())[-1]"
   ]
  },
  {
   "cell_type": "code",
   "execution_count": null,
   "id": "181623d4",
   "metadata": {},
   "outputs": [],
   "source": [
    "l1 = []\n",
    "count = 0\n",
    "for item in simulation.people.values():\n",
    "    if item['genome'] not in l1:\n",
    "        count += 1\n",
    "        l1.append(item['genome'])"
   ]
  },
  {
   "cell_type": "code",
   "execution_count": null,
   "id": "4aa9e4a6",
   "metadata": {},
   "outputs": [],
   "source": [
    "count"
   ]
  },
  {
   "cell_type": "code",
   "execution_count": null,
   "id": "9a41dc81",
   "metadata": {},
   "outputs": [],
   "source": [
    "len(simulation.people)"
   ]
  },
  {
   "cell_type": "code",
   "execution_count": null,
   "id": "bc290be3",
   "metadata": {},
   "outputs": [],
   "source": [
    "unpartnered = pd.DataFrame(Counter([x['birth_year'] for x in simulation.people.values() if x['partner'] is None]).items()).sort_values(1)"
   ]
  },
  {
   "cell_type": "code",
   "execution_count": null,
   "id": "45270610",
   "metadata": {
    "scrolled": true
   },
   "outputs": [],
   "source": [
    "unpartnered"
   ]
  },
  {
   "cell_type": "code",
   "execution_count": null,
   "id": "8abd6bf2",
   "metadata": {},
   "outputs": [],
   "source": [
    "plt.scatter(x=unpartnered[0], y=unpartnered[1])"
   ]
  },
  {
   "cell_type": "code",
   "execution_count": null,
   "id": "c2438b3a",
   "metadata": {},
   "outputs": [],
   "source": [
    "Counter([x['generation'] for x in simulation.people.values() if x['partner'] is None])"
   ]
  },
  {
   "cell_type": "code",
   "execution_count": null,
   "id": "e794a92d",
   "metadata": {},
   "outputs": [],
   "source": [
    "datetime.now()"
   ]
  },
  {
   "cell_type": "code",
   "execution_count": null,
   "id": "5dc02d95",
   "metadata": {},
   "outputs": [],
   "source": []
  }
 ],
 "metadata": {
  "kernelspec": {
   "display_name": "Python 3 (ipykernel)",
   "language": "python",
   "name": "python3"
  },
  "language_info": {
   "codemirror_mode": {
    "name": "ipython",
    "version": 3
   },
   "file_extension": ".py",
   "mimetype": "text/x-python",
   "name": "python",
   "nbconvert_exporter": "python",
   "pygments_lexer": "ipython3",
   "version": "3.10.0"
  }
 },
 "nbformat": 4,
 "nbformat_minor": 5
}
