{
 "cells": [
  {
   "cell_type": "code",
   "execution_count": 1,
   "id": "69234fe7",
   "metadata": {},
   "outputs": [],
   "source": [
    "import uuid\n",
    "from uuid import UUID\n",
    "import random\n",
    "from collections import Counter\n",
    "import pandas as pd\n",
    "import matplotlib.pyplot as plt\n",
    "from datetime import datetime\n",
    "import itertools"
   ]
  },
  {
   "cell_type": "code",
   "execution_count": 2,
   "id": "b2bb3eb7",
   "metadata": {},
   "outputs": [],
   "source": [
    "class GenomeSimulator:\n",
    "    def __init__(self):\n",
    "        self.generation = 1\n",
    "        self.people = dict()\n",
    "        self.start_year = 1800\n",
    "    \n",
    "    def setup(self, population=32):\n",
    "        for _ in range(population):\n",
    "            value = uuid.uuid4()\n",
    "            self.people[value] = {'name':value,\n",
    "                                  'genome': [value] * 20_000,\n",
    "                                  'generation': self.generation,\n",
    "                                  'sex':random.randint(0,1),\n",
    "                                  'birth_year':random.randint(0,10) + self.start_year,\n",
    "                                  'partner': None,\n",
    "                                  'parents': None,\n",
    "                                  'ancestors': []}\n",
    "         \n",
    "    def genome_similarity(self, person_a, person_b):\n",
    "        matching = 0\n",
    "        for gene in range(20_000):\n",
    "            if person_a['genome'][gene] == person_b['genome'][gene]:\n",
    "                matching += 1\n",
    "        return matching / 20_000 * 100\n",
    "\n",
    "    def make_partners(self):\n",
    "        self.generation += 1\n",
    "        candidates = {key:value for key, value in self.people.items() if value['partner'] is None}\n",
    "        males = {key:value for key, value in candidates.items() if value['sex'] == 1}\n",
    "        females = {key:value for key, value in candidates.items() if value['sex'] == 0}\n",
    "        for father in males.values():\n",
    "            # mother = females[random.choice(list(females.keys()))]\n",
    "            # similarity = self.genome_similarity(father,mother)\n",
    "            mother = ''\n",
    "            close_relatives = 0\n",
    "            \n",
    "#             candidates = {}\n",
    "#             close_relatives = 0\n",
    "#             for key, woman in females.items():\n",
    "#                 if self.genome_similarity(father,woman) < 2:\n",
    "#                     candidates[key] = woman\n",
    "#                 else:\n",
    "#                     close_relatives += 1\n",
    "#             mother = candidates[random.choice(list(candidates.keys()))]\n",
    "            for woman in females.values():\n",
    "                if not mother:\n",
    "                    if self.genome_similarity(father,woman) < 2:\n",
    "                        mother = woman\n",
    "                    else:\n",
    "                        close_relatives += 1\n",
    "            if mother:\n",
    "                #print(f\"{close_relatives}\")\n",
    "                for child in range(1,4):\n",
    "                    genome = []\n",
    "                    for gene in range(20_000):\n",
    "                        if random.randint(0,1) == 0:\n",
    "                            genome.append(father['genome'][gene])\n",
    "                        else:\n",
    "                            genome.append(mother['genome'][gene])\n",
    "                    candidates[father['name']]['partner'] = mother['name']\n",
    "                    candidates[mother['name']]['partner'] = father['name']\n",
    "                    new_name = uuid.uuid4()\n",
    "                    birth_year = max(father['birth_year'], mother['birth_year']) + random.randint(20,35)\n",
    "                    ancestors = father['ancestors'] + [father['name']] + mother['ancestors'] + [mother['name']]\n",
    "                    self.people[new_name] = {'name':new_name,\n",
    "                                             'genome': genome,\n",
    "                                             'generation': father['generation']+1,\n",
    "                                             'sex': random.randint(0,1),\n",
    "                                             'birth_year': birth_year,\n",
    "                                             'partner': None,\n",
    "                                             'parents':[father['name'],mother['name']],\n",
    "                                             'ancestors':ancestors}\n",
    "                females.pop(mother['name'])\n",
    "            else:\n",
    "                print(f\"{close_relatives}, no mother\")"
   ]
  },
  {
   "cell_type": "code",
   "execution_count": 3,
   "id": "1b03d7c1",
   "metadata": {},
   "outputs": [],
   "source": [
    "def genome_similarity(person_a, person_b):\n",
    "    matching = 0\n",
    "    for gene in range(20_000):\n",
    "        if person_a['genome'][gene] == person_b['genome'][gene]:\n",
    "            matching += 1\n",
    "    return matching / 20_000 * 100"
   ]
  },
  {
   "cell_type": "code",
   "execution_count": 4,
   "id": "5aa38233",
   "metadata": {},
   "outputs": [
    {
     "data": {
      "text/plain": [
       "128"
      ]
     },
     "execution_count": 4,
     "metadata": {},
     "output_type": "execute_result"
    }
   ],
   "source": [
    "simulation = GenomeSimulator()\n",
    "simulation.setup(population=128)\n",
    "len(simulation.people.items())"
   ]
  },
  {
   "cell_type": "code",
   "execution_count": null,
   "id": "677a9097",
   "metadata": {
    "scrolled": true
   },
   "outputs": [
    {
     "name": "stdout",
     "output_type": "stream",
     "text": [
      "generation 1: 2023-05-25 18:27:07.543448\n",
      "generation 2: 2023-05-25 18:27:12.368787\n",
      "generation 3: 2023-05-25 18:27:19.549611\n",
      "generation 4: 2023-05-25 18:27:31.135609\n",
      "generation 5: 2023-05-25 18:27:50.662230\n",
      "8, no mother\n",
      "8, no mother\n",
      "8, no mother\n",
      "7, no mother\n",
      "7, no mother\n",
      "7, no mother\n",
      "generation 6: 2023-05-25 18:28:26.995035\n",
      "generation 7: 2023-05-25 18:29:21.217226\n",
      "generation 8: 2023-05-25 18:30:44.073609\n",
      "184, no mother\n",
      "generation 9: 2023-05-25 18:35:00.578257\n"
     ]
    }
   ],
   "source": [
    "for generation in range(1,20):\n",
    "    simulation.make_partners()\n",
    "    print(\"generation %s: %s\" % (generation, datetime.now()))"
   ]
  },
  {
   "cell_type": "code",
   "execution_count": null,
   "id": "d7fbbb6f",
   "metadata": {},
   "outputs": [],
   "source": [
    "len(simulation.people)"
   ]
  },
  {
   "cell_type": "code",
   "execution_count": null,
   "id": "3cea0d53",
   "metadata": {},
   "outputs": [],
   "source": [
    "Counter([x['sex'] for x in simulation.people.values()])"
   ]
  },
  {
   "cell_type": "code",
   "execution_count": null,
   "id": "8f559428",
   "metadata": {},
   "outputs": [],
   "source": [
    "Counter([x['sex'] for x in simulation.people.values() if x['partner'] is None])"
   ]
  },
  {
   "cell_type": "code",
   "execution_count": null,
   "id": "10cdffd6",
   "metadata": {},
   "outputs": [],
   "source": [
    "simulation.generation"
   ]
  },
  {
   "cell_type": "code",
   "execution_count": null,
   "id": "9a612758",
   "metadata": {},
   "outputs": [],
   "source": [
    "list(simulation.people.values())[-1]"
   ]
  },
  {
   "cell_type": "code",
   "execution_count": null,
   "id": "181623d4",
   "metadata": {},
   "outputs": [],
   "source": [
    "l1 = []\n",
    "count = 0\n",
    "for item in simulation.people.values():\n",
    "    if item['genome'] not in l1:\n",
    "        count += 1\n",
    "        l1.append(item['genome'])"
   ]
  },
  {
   "cell_type": "code",
   "execution_count": null,
   "id": "4aa9e4a6",
   "metadata": {},
   "outputs": [],
   "source": [
    "count"
   ]
  },
  {
   "cell_type": "code",
   "execution_count": null,
   "id": "9a41dc81",
   "metadata": {},
   "outputs": [],
   "source": [
    "len(simulation.people)"
   ]
  },
  {
   "cell_type": "code",
   "execution_count": null,
   "id": "bc290be3",
   "metadata": {},
   "outputs": [],
   "source": [
    "unpartnered = pd.DataFrame(Counter([x['birth_year'] for x in simulation.people.values() if x['partner'] is None]).items()).sort_values(1)"
   ]
  },
  {
   "cell_type": "code",
   "execution_count": null,
   "id": "45270610",
   "metadata": {
    "scrolled": true
   },
   "outputs": [],
   "source": [
    "unpartnered.sort_values(0)"
   ]
  },
  {
   "cell_type": "code",
   "execution_count": null,
   "id": "8abd6bf2",
   "metadata": {},
   "outputs": [],
   "source": [
    "plt.scatter(x=unpartnered[0], y=unpartnered[1])"
   ]
  },
  {
   "cell_type": "code",
   "execution_count": null,
   "id": "c2438b3a",
   "metadata": {},
   "outputs": [],
   "source": [
    "Counter([x['generation'] for x in simulation.people.values() if x['partner'] is None])"
   ]
  },
  {
   "cell_type": "code",
   "execution_count": null,
   "id": "e794a92d",
   "metadata": {},
   "outputs": [],
   "source": [
    "datetime.now()"
   ]
  },
  {
   "cell_type": "code",
   "execution_count": null,
   "id": "5dc02d95",
   "metadata": {},
   "outputs": [],
   "source": [
    "Counter([x['generation'] for x in simulation.people.values()])"
   ]
  },
  {
   "cell_type": "code",
   "execution_count": null,
   "id": "670e428f",
   "metadata": {},
   "outputs": [],
   "source": [
    "last_generation = [x['name'] for x in simulation.people.values() if x['generation'] == 4]"
   ]
  },
  {
   "cell_type": "code",
   "execution_count": null,
   "id": "844150fc",
   "metadata": {},
   "outputs": [],
   "source": [
    "people = pd.DataFrame(simulation.people).transpose()\n",
    "people"
   ]
  },
  {
   "cell_type": "code",
   "execution_count": null,
   "id": "c251a5fb",
   "metadata": {},
   "outputs": [],
   "source": [
    "fifth_gen = list(itertools.combinations(people[people['generation']==8].index,2))\n",
    "relatedness = list()\n",
    "for combo in fifth_gen:\n",
    "    relatedness.append(genome_similarity(people.loc[combo[0]],\n",
    "                                         people.loc[combo[1]]))\n",
    "relatedness"
   ]
  },
  {
   "cell_type": "code",
   "execution_count": null,
   "id": "7accc524",
   "metadata": {
    "scrolled": false
   },
   "outputs": [],
   "source": [
    "plt.hist(relatedness)"
   ]
  },
  {
   "cell_type": "code",
   "execution_count": null,
   "id": "43ff9097",
   "metadata": {
    "scrolled": true
   },
   "outputs": [],
   "source": [
    "people[people['generation']==6]"
   ]
  },
  {
   "cell_type": "code",
   "execution_count": null,
   "id": "9937c271",
   "metadata": {},
   "outputs": [],
   "source": [
    "fifth_gen = list(itertools.combinations(people[people['generation']==6].index,2))\n",
    "for combo in fifth_gen:\n",
    "    anc = set(people.loc[combo[0]]['ancestors'])\n",
    "    if people.loc[combo[1]]['sex'] != people.loc[combo[0]]['sex']:\n",
    "        print( len(anc & set(people.loc[combo[1]]['ancestors'])) / len(anc))"
   ]
  },
  {
   "cell_type": "code",
   "execution_count": null,
   "id": "50b921f6",
   "metadata": {},
   "outputs": [],
   "source": []
  },
  {
   "cell_type": "code",
   "execution_count": null,
   "id": "35f166d6",
   "metadata": {},
   "outputs": [],
   "source": []
  }
 ],
 "metadata": {
  "kernelspec": {
   "display_name": "Python 3 (ipykernel)",
   "language": "python",
   "name": "python3"
  },
  "language_info": {
   "codemirror_mode": {
    "name": "ipython",
    "version": 3
   },
   "file_extension": ".py",
   "mimetype": "text/x-python",
   "name": "python",
   "nbconvert_exporter": "python",
   "pygments_lexer": "ipython3",
   "version": "3.9.13"
  }
 },
 "nbformat": 4,
 "nbformat_minor": 5
}
