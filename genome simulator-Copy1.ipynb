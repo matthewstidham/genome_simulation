{
 "cells": [
  {
   "cell_type": "code",
   "execution_count": 1,
   "id": "69234fe7",
   "metadata": {},
   "outputs": [],
   "source": [
    "import uuid\n",
    "from uuid import UUID\n",
    "import random\n",
    "from collections import Counter\n",
    "import pandas as pd\n",
    "import matplotlib.pyplot as plt\n",
    "from datetime import datetime\n",
    "import itertools"
   ]
  },
  {
   "cell_type": "code",
   "execution_count": 12,
   "id": "ff629219",
   "metadata": {},
   "outputs": [
    {
     "name": "stdout",
     "output_type": "stream",
     "text": [
      "matthew\n",
      "jesse\n",
      "alycia\n"
     ]
    }
   ],
   "source": [
    "d = dict()\n",
    "d['matthew'] = 'pizza'\n",
    "d['jesse'] = 'cheese'\n",
    "d['alycia'] = 'lasagna'\n",
    "random.choice(list(d.keys()))\n",
    "for key, value in d.items():\n",
    "    print(key)"
   ]
  },
  {
   "cell_type": "code",
   "execution_count": 41,
   "id": "b2bb3eb7",
   "metadata": {},
   "outputs": [],
   "source": [
    "class GenomeSimulator:\n",
    "    def __init__(self):\n",
    "        self.generation = 1\n",
    "        self.people = dict()\n",
    "        self.start_year = 1800\n",
    "    \n",
    "    def setup(self, population=32):\n",
    "        for _ in range(population):\n",
    "            value = uuid.uuid4()\n",
    "            self.people[value] = {'name':value,\n",
    "                                  'genome': [value] * 20_000,\n",
    "                                  'generation': self.generation,\n",
    "                                  'sex':random.randint(0,1),\n",
    "                                  'birth_year':random.randint(0,10) + self.start_year,\n",
    "                                  'partner': None,\n",
    "                                  'parents': None,\n",
    "                                  'ancestors': []}\n",
    "         \n",
    "    def genome_similarity(self, person_a, person_b):\n",
    "        matching = 0\n",
    "        for gene in range(20_000):\n",
    "            if person_a['genome'][gene] == person_b['genome'][gene]:\n",
    "                matching += 1\n",
    "        return matching / 20_000 * 100\n",
    "\n",
    "    def make_partners(self):\n",
    "        self.generation += 1\n",
    "        candidates = {key:value for key, value in self.people.items() if value['partner'] is None}\n",
    "        males = {key:value for key, value in candidates.items() if value['sex'] == 1}\n",
    "        females = {key:value for key, value in candidates.items() if value['sex'] == 0}\n",
    "        while len(males) > 0 and len(females) > 0:\n",
    "            father = males[random.choice(list(males.keys()))]\n",
    "            mother = females[random.choice(list(females.keys()))]\n",
    "            similarity = self.genome_similarity(father,mother)\n",
    "            if similarity < 2:\n",
    "                for child in range(1,random.randint(1,8)):\n",
    "                    genome = []\n",
    "                    for gene in range(20_000):\n",
    "                        if random.randint(0,1) == 0:\n",
    "                            genome.append(father['genome'][gene])\n",
    "                        else:\n",
    "                            genome.append(mother['genome'][gene])\n",
    "                    candidates[father['name']]['partner'] = mother['name']\n",
    "                    candidates[mother['name']]['partner'] = father['name']\n",
    "                    new_name = uuid.uuid4()\n",
    "                    birth_year = max(father['birth_year'], mother['birth_year']) + random.randint(20,35)\n",
    "                    ancestors = father['ancestors'] + [father['name']] + mother['ancestors'] + [mother['name']]\n",
    "                    self.people[new_name] = {'name':new_name,\n",
    "                                             'genome': genome,\n",
    "                                             'generation': father['generation']+1,\n",
    "                                             'sex': random.randint(0,1),\n",
    "                                             'birth_year': birth_year,\n",
    "                                             'partner': None,\n",
    "                                             'parents':[father['name'],mother['name']],\n",
    "                                             'ancestors':ancestors}\n",
    "                males.pop(father['name'])\n",
    "                females.pop(mother['name'])"
   ]
  },
  {
   "cell_type": "code",
   "execution_count": 42,
   "id": "1b03d7c1",
   "metadata": {},
   "outputs": [],
   "source": [
    "def genome_similarity(person_a, person_b):\n",
    "    matching = 0\n",
    "    for gene in range(20_000):\n",
    "        if person_a['genome'][gene] == person_b['genome'][gene]:\n",
    "            matching += 1\n",
    "    return matching / 20_000 * 100"
   ]
  },
  {
   "cell_type": "code",
   "execution_count": 43,
   "id": "5aa38233",
   "metadata": {},
   "outputs": [
    {
     "data": {
      "text/plain": [
       "32"
      ]
     },
     "execution_count": 43,
     "metadata": {},
     "output_type": "execute_result"
    }
   ],
   "source": [
    "simulation = GenomeSimulator()\n",
    "simulation.setup(population=32)\n",
    "len(simulation.people.items())"
   ]
  },
  {
   "cell_type": "code",
   "execution_count": 44,
   "id": "677a9097",
   "metadata": {},
   "outputs": [
    {
     "name": "stdout",
     "output_type": "stream",
     "text": [
      "generation 1: 2023-05-25 17:15:39.959275\n",
      "generation 2: 2023-05-25 17:15:41.206046\n",
      "generation 3: 2023-05-25 17:15:42.768859\n"
     ]
    },
    {
     "ename": "KeyboardInterrupt",
     "evalue": "",
     "output_type": "error",
     "traceback": [
      "\u001b[0;31m---------------------------------------------------------------------------\u001b[0m",
      "\u001b[0;31mKeyboardInterrupt\u001b[0m                         Traceback (most recent call last)",
      "\u001b[0;32m/var/folders/qc/qdwcn8y54q9bc60c6s4xrk1c0000gn/T/ipykernel_35689/248358624.py\u001b[0m in \u001b[0;36m<module>\u001b[0;34m\u001b[0m\n\u001b[1;32m      1\u001b[0m \u001b[0;32mfor\u001b[0m \u001b[0mgeneration\u001b[0m \u001b[0;32min\u001b[0m \u001b[0mrange\u001b[0m\u001b[0;34m(\u001b[0m\u001b[0;36m1\u001b[0m\u001b[0;34m,\u001b[0m\u001b[0;36m20\u001b[0m\u001b[0;34m)\u001b[0m\u001b[0;34m:\u001b[0m\u001b[0;34m\u001b[0m\u001b[0;34m\u001b[0m\u001b[0m\n\u001b[0;32m----> 2\u001b[0;31m     \u001b[0msimulation\u001b[0m\u001b[0;34m.\u001b[0m\u001b[0mmake_partners\u001b[0m\u001b[0;34m(\u001b[0m\u001b[0;34m)\u001b[0m\u001b[0;34m\u001b[0m\u001b[0;34m\u001b[0m\u001b[0m\n\u001b[0m\u001b[1;32m      3\u001b[0m     \u001b[0mprint\u001b[0m\u001b[0;34m(\u001b[0m\u001b[0;34m\"generation %s: %s\"\u001b[0m \u001b[0;34m%\u001b[0m \u001b[0;34m(\u001b[0m\u001b[0mgeneration\u001b[0m\u001b[0;34m,\u001b[0m \u001b[0mdatetime\u001b[0m\u001b[0;34m.\u001b[0m\u001b[0mnow\u001b[0m\u001b[0;34m(\u001b[0m\u001b[0;34m)\u001b[0m\u001b[0;34m)\u001b[0m\u001b[0;34m)\u001b[0m\u001b[0;34m\u001b[0m\u001b[0;34m\u001b[0m\u001b[0m\n",
      "\u001b[0;32m/var/folders/qc/qdwcn8y54q9bc60c6s4xrk1c0000gn/T/ipykernel_35689/2917131579.py\u001b[0m in \u001b[0;36mmake_partners\u001b[0;34m(self)\u001b[0m\n\u001b[1;32m     37\u001b[0m                     \u001b[0mgenome\u001b[0m \u001b[0;34m=\u001b[0m \u001b[0;34m[\u001b[0m\u001b[0;34m]\u001b[0m\u001b[0;34m\u001b[0m\u001b[0;34m\u001b[0m\u001b[0m\n\u001b[1;32m     38\u001b[0m                     \u001b[0;32mfor\u001b[0m \u001b[0mgene\u001b[0m \u001b[0;32min\u001b[0m \u001b[0mrange\u001b[0m\u001b[0;34m(\u001b[0m\u001b[0;36m20_000\u001b[0m\u001b[0;34m)\u001b[0m\u001b[0;34m:\u001b[0m\u001b[0;34m\u001b[0m\u001b[0;34m\u001b[0m\u001b[0m\n\u001b[0;32m---> 39\u001b[0;31m                         \u001b[0;32mif\u001b[0m \u001b[0mrandom\u001b[0m\u001b[0;34m.\u001b[0m\u001b[0mrandint\u001b[0m\u001b[0;34m(\u001b[0m\u001b[0;36m0\u001b[0m\u001b[0;34m,\u001b[0m\u001b[0;36m1\u001b[0m\u001b[0;34m)\u001b[0m \u001b[0;34m==\u001b[0m \u001b[0;36m0\u001b[0m\u001b[0;34m:\u001b[0m\u001b[0;34m\u001b[0m\u001b[0;34m\u001b[0m\u001b[0m\n\u001b[0m\u001b[1;32m     40\u001b[0m                             \u001b[0mgenome\u001b[0m\u001b[0;34m.\u001b[0m\u001b[0mappend\u001b[0m\u001b[0;34m(\u001b[0m\u001b[0mfather\u001b[0m\u001b[0;34m[\u001b[0m\u001b[0;34m'genome'\u001b[0m\u001b[0;34m]\u001b[0m\u001b[0;34m[\u001b[0m\u001b[0mgene\u001b[0m\u001b[0;34m]\u001b[0m\u001b[0;34m)\u001b[0m\u001b[0;34m\u001b[0m\u001b[0;34m\u001b[0m\u001b[0m\n\u001b[1;32m     41\u001b[0m                         \u001b[0;32melse\u001b[0m\u001b[0;34m:\u001b[0m\u001b[0;34m\u001b[0m\u001b[0;34m\u001b[0m\u001b[0m\n",
      "\u001b[0;31mKeyboardInterrupt\u001b[0m: "
     ]
    }
   ],
   "source": [
    "for generation in range(1,20):\n",
    "    simulation.make_partners()\n",
    "    print(\"generation %s: %s\" % (generation, datetime.now()))"
   ]
  },
  {
   "cell_type": "code",
   "execution_count": null,
   "id": "d7fbbb6f",
   "metadata": {},
   "outputs": [],
   "source": [
    "len(simulation.people)"
   ]
  },
  {
   "cell_type": "code",
   "execution_count": null,
   "id": "3cea0d53",
   "metadata": {},
   "outputs": [],
   "source": [
    "Counter([x['sex'] for x in simulation.people.values()])"
   ]
  },
  {
   "cell_type": "code",
   "execution_count": null,
   "id": "8f559428",
   "metadata": {},
   "outputs": [],
   "source": [
    "Counter([x['sex'] for x in simulation.people.values() if x['partner'] is None])"
   ]
  },
  {
   "cell_type": "code",
   "execution_count": null,
   "id": "10cdffd6",
   "metadata": {},
   "outputs": [],
   "source": [
    "simulation.generation"
   ]
  },
  {
   "cell_type": "code",
   "execution_count": null,
   "id": "9a612758",
   "metadata": {},
   "outputs": [],
   "source": [
    "list(simulation.people.values())[-1]"
   ]
  },
  {
   "cell_type": "code",
   "execution_count": null,
   "id": "181623d4",
   "metadata": {},
   "outputs": [],
   "source": [
    "l1 = []\n",
    "count = 0\n",
    "for item in simulation.people.values():\n",
    "    if item['genome'] not in l1:\n",
    "        count += 1\n",
    "        l1.append(item['genome'])"
   ]
  },
  {
   "cell_type": "code",
   "execution_count": null,
   "id": "4aa9e4a6",
   "metadata": {},
   "outputs": [],
   "source": [
    "count"
   ]
  },
  {
   "cell_type": "code",
   "execution_count": null,
   "id": "9a41dc81",
   "metadata": {},
   "outputs": [],
   "source": [
    "len(simulation.people)"
   ]
  },
  {
   "cell_type": "code",
   "execution_count": null,
   "id": "bc290be3",
   "metadata": {},
   "outputs": [],
   "source": [
    "unpartnered = pd.DataFrame(Counter([x['birth_year'] for x in simulation.people.values() if x['partner'] is None]).items()).sort_values(1)"
   ]
  },
  {
   "cell_type": "code",
   "execution_count": null,
   "id": "45270610",
   "metadata": {
    "scrolled": true
   },
   "outputs": [],
   "source": [
    "unpartnered.sort_values(0)"
   ]
  },
  {
   "cell_type": "code",
   "execution_count": null,
   "id": "8abd6bf2",
   "metadata": {},
   "outputs": [],
   "source": [
    "plt.scatter(x=unpartnered[0], y=unpartnered[1])"
   ]
  },
  {
   "cell_type": "code",
   "execution_count": null,
   "id": "c2438b3a",
   "metadata": {},
   "outputs": [],
   "source": [
    "Counter([x['generation'] for x in simulation.people.values() if x['partner'] is None])"
   ]
  },
  {
   "cell_type": "code",
   "execution_count": null,
   "id": "e794a92d",
   "metadata": {},
   "outputs": [],
   "source": [
    "datetime.now()"
   ]
  },
  {
   "cell_type": "code",
   "execution_count": null,
   "id": "5dc02d95",
   "metadata": {},
   "outputs": [],
   "source": [
    "Counter([x['generation'] for x in simulation.people.values()])"
   ]
  },
  {
   "cell_type": "code",
   "execution_count": null,
   "id": "670e428f",
   "metadata": {},
   "outputs": [],
   "source": [
    "last_generation = [x['name'] for x in simulation.people.values() if x['generation'] == 4]"
   ]
  },
  {
   "cell_type": "code",
   "execution_count": null,
   "id": "844150fc",
   "metadata": {},
   "outputs": [],
   "source": [
    "people = pd.DataFrame(simulation.people).transpose()\n",
    "people"
   ]
  },
  {
   "cell_type": "code",
   "execution_count": null,
   "id": "c251a5fb",
   "metadata": {},
   "outputs": [],
   "source": [
    "fifth_gen = list(itertools.combinations(people[people['generation']==6].index,2))\n",
    "relatedness = list()\n",
    "for combo in fifth_gen:\n",
    "    relatedness.append(genome_similarity(people.loc[combo[0]],\n",
    "                                         people.loc[combo[1]]))\n",
    "relatedness"
   ]
  },
  {
   "cell_type": "code",
   "execution_count": null,
   "id": "7accc524",
   "metadata": {
    "scrolled": true
   },
   "outputs": [],
   "source": [
    "plt.hist(relatedness)"
   ]
  },
  {
   "cell_type": "code",
   "execution_count": null,
   "id": "43ff9097",
   "metadata": {
    "scrolled": true
   },
   "outputs": [],
   "source": [
    "people[people['generation']==6]"
   ]
  },
  {
   "cell_type": "code",
   "execution_count": null,
   "id": "3df25274",
   "metadata": {},
   "outputs": [],
   "source": [
    "fifth_gen = list(itertools.combinations(people[people['generation']==6].index,2))\n",
    "for combo in fifth_gen:\n",
    "    anc = set(people.loc[combo[0]]['ancestors'])\n",
    "    if people.loc[combo[1]]['sex'] != people.loc[combo[0]]['sex']:\n",
    "        print( len(anc & set(people.loc[combo[1]]['ancestors'])) / len(anc))"
   ]
  },
  {
   "cell_type": "code",
   "execution_count": null,
   "id": "cb7e9634",
   "metadata": {},
   "outputs": [],
   "source": []
  }
 ],
 "metadata": {
  "kernelspec": {
   "display_name": "Python 3 (ipykernel)",
   "language": "python",
   "name": "python3"
  },
  "language_info": {
   "codemirror_mode": {
    "name": "ipython",
    "version": 3
   },
   "file_extension": ".py",
   "mimetype": "text/x-python",
   "name": "python",
   "nbconvert_exporter": "python",
   "pygments_lexer": "ipython3",
   "version": "3.9.13"
  }
 },
 "nbformat": 4,
 "nbformat_minor": 5
}
